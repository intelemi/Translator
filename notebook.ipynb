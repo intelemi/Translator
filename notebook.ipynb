{
 "cells": [
  {
   "cell_type": "markdown",
   "metadata": {},
   "source": [
    "# Traductor Nativo de Lenguajes\n",
    "Este proyecto utiliza modelos generativos y ventanas de contexto masivas para traducir idiomas como el Tsafiqui. Proporciona funcionalidades de:\n",
    "- Traducción dinámica usando prompts personalizados.\n",
    "- Manejo de multimedia (audio, imágenes, etc.).\n",
    "- Historial de chats para contexto adicional.\n"
   ]
  },
  {
   "cell_type": "code",
   "execution_count": 2,
   "metadata": {},
   "outputs": [
    {
     "name": "stdout",
     "output_type": "stream",
     "text": [
      "Requirement already satisfied: aiofiles==23.2.1 in c:\\users\\jeremy\\documents\\intelemi\\ai - native languajes translator\\intelemi_translator_env\\lib\\site-packages (from -r requirements.txt (line 1)) (23.2.1)\n",
      "Requirement already satisfied: annotated-types==0.7.0 in c:\\users\\jeremy\\documents\\intelemi\\ai - native languajes translator\\intelemi_translator_env\\lib\\site-packages (from -r requirements.txt (line 2)) (0.7.0)\n",
      "Requirement already satisfied: anyio==4.6.2.post1 in c:\\users\\jeremy\\documents\\intelemi\\ai - native languajes translator\\intelemi_translator_env\\lib\\site-packages (from -r requirements.txt (line 3)) (4.6.2.post1)\n",
      "Requirement already satisfied: asyncio==3.4.3 in c:\\users\\jeremy\\documents\\intelemi\\ai - native languajes translator\\intelemi_translator_env\\lib\\site-packages (from -r requirements.txt (line 4)) (3.4.3)\n",
      "Requirement already satisfied: blinker==1.8.2 in c:\\users\\jeremy\\documents\\intelemi\\ai - native languajes translator\\intelemi_translator_env\\lib\\site-packages (from -r requirements.txt (line 5)) (1.8.2)\n",
      "Requirement already satisfied: cachetools==5.5.0 in c:\\users\\jeremy\\documents\\intelemi\\ai - native languajes translator\\intelemi_translator_env\\lib\\site-packages (from -r requirements.txt (line 6)) (5.5.0)\n",
      "Requirement already satisfied: certifi==2024.8.30 in c:\\users\\jeremy\\documents\\intelemi\\ai - native languajes translator\\intelemi_translator_env\\lib\\site-packages (from -r requirements.txt (line 7)) (2024.8.30)\n",
      "Requirement already satisfied: charset-normalizer==3.4.0 in c:\\users\\jeremy\\documents\\intelemi\\ai - native languajes translator\\intelemi_translator_env\\lib\\site-packages (from -r requirements.txt (line 8)) (3.4.0)\n",
      "Requirement already satisfied: click==8.1.7 in c:\\users\\jeremy\\documents\\intelemi\\ai - native languajes translator\\intelemi_translator_env\\lib\\site-packages (from -r requirements.txt (line 9)) (8.1.7)\n",
      "Requirement already satisfied: colorama==0.4.6 in c:\\users\\jeremy\\documents\\intelemi\\ai - native languajes translator\\intelemi_translator_env\\lib\\site-packages (from -r requirements.txt (line 10)) (0.4.6)\n",
      "Requirement already satisfied: dnspython==2.7.0 in c:\\users\\jeremy\\documents\\intelemi\\ai - native languajes translator\\intelemi_translator_env\\lib\\site-packages (from -r requirements.txt (line 11)) (2.7.0)\n",
      "Requirement already satisfied: fastapi==0.115.2 in c:\\users\\jeremy\\documents\\intelemi\\ai - native languajes translator\\intelemi_translator_env\\lib\\site-packages (from -r requirements.txt (line 12)) (0.115.2)\n",
      "Requirement already satisfied: ffmpy==0.4.0 in c:\\users\\jeremy\\documents\\intelemi\\ai - native languajes translator\\intelemi_translator_env\\lib\\site-packages (from -r requirements.txt (line 13)) (0.4.0)\n",
      "Requirement already satisfied: filelock==3.16.1 in c:\\users\\jeremy\\documents\\intelemi\\ai - native languajes translator\\intelemi_translator_env\\lib\\site-packages (from -r requirements.txt (line 14)) (3.16.1)\n",
      "Requirement already satisfied: Flask==3.0.3 in c:\\users\\jeremy\\documents\\intelemi\\ai - native languajes translator\\intelemi_translator_env\\lib\\site-packages (from -r requirements.txt (line 15)) (3.0.3)\n",
      "Requirement already satisfied: Flask-Cors==5.0.0 in c:\\users\\jeremy\\documents\\intelemi\\ai - native languajes translator\\intelemi_translator_env\\lib\\site-packages (from -r requirements.txt (line 16)) (5.0.0)\n",
      "Requirement already satisfied: fsspec==2024.10.0 in c:\\users\\jeremy\\documents\\intelemi\\ai - native languajes translator\\intelemi_translator_env\\lib\\site-packages (from -r requirements.txt (line 17)) (2024.10.0)\n",
      "Requirement already satisfied: google-ai-generativelanguage==0.6.10 in c:\\users\\jeremy\\documents\\intelemi\\ai - native languajes translator\\intelemi_translator_env\\lib\\site-packages (from -r requirements.txt (line 18)) (0.6.10)\n",
      "Requirement already satisfied: google-api-core==2.21.0 in c:\\users\\jeremy\\documents\\intelemi\\ai - native languajes translator\\intelemi_translator_env\\lib\\site-packages (from -r requirements.txt (line 19)) (2.21.0)\n",
      "Requirement already satisfied: google-api-python-client==2.149.0 in c:\\users\\jeremy\\documents\\intelemi\\ai - native languajes translator\\intelemi_translator_env\\lib\\site-packages (from -r requirements.txt (line 20)) (2.149.0)\n",
      "Requirement already satisfied: google-auth==2.35.0 in c:\\users\\jeremy\\documents\\intelemi\\ai - native languajes translator\\intelemi_translator_env\\lib\\site-packages (from -r requirements.txt (line 21)) (2.35.0)\n",
      "Requirement already satisfied: google-auth-httplib2==0.2.0 in c:\\users\\jeremy\\documents\\intelemi\\ai - native languajes translator\\intelemi_translator_env\\lib\\site-packages (from -r requirements.txt (line 22)) (0.2.0)\n",
      "Requirement already satisfied: google-generativeai==0.8.3 in c:\\users\\jeremy\\documents\\intelemi\\ai - native languajes translator\\intelemi_translator_env\\lib\\site-packages (from -r requirements.txt (line 23)) (0.8.3)\n",
      "Requirement already satisfied: googleapis-common-protos==1.65.0 in c:\\users\\jeremy\\documents\\intelemi\\ai - native languajes translator\\intelemi_translator_env\\lib\\site-packages (from -r requirements.txt (line 24)) (1.65.0)\n",
      "Requirement already satisfied: gradio==5.3.0 in c:\\users\\jeremy\\documents\\intelemi\\ai - native languajes translator\\intelemi_translator_env\\lib\\site-packages (from -r requirements.txt (line 25)) (5.3.0)\n",
      "Requirement already satisfied: gradio_client==1.4.2 in c:\\users\\jeremy\\documents\\intelemi\\ai - native languajes translator\\intelemi_translator_env\\lib\\site-packages (from -r requirements.txt (line 26)) (1.4.2)\n",
      "Requirement already satisfied: grpcio==1.67.0 in c:\\users\\jeremy\\documents\\intelemi\\ai - native languajes translator\\intelemi_translator_env\\lib\\site-packages (from -r requirements.txt (line 27)) (1.67.0)\n",
      "Requirement already satisfied: grpcio-status==1.67.0 in c:\\users\\jeremy\\documents\\intelemi\\ai - native languajes translator\\intelemi_translator_env\\lib\\site-packages (from -r requirements.txt (line 28)) (1.67.0)\n",
      "Requirement already satisfied: h11==0.14.0 in c:\\users\\jeremy\\documents\\intelemi\\ai - native languajes translator\\intelemi_translator_env\\lib\\site-packages (from -r requirements.txt (line 29)) (0.14.0)\n",
      "Requirement already satisfied: httpcore==1.0.6 in c:\\users\\jeremy\\documents\\intelemi\\ai - native languajes translator\\intelemi_translator_env\\lib\\site-packages (from -r requirements.txt (line 30)) (1.0.6)\n",
      "Requirement already satisfied: httplib2==0.22.0 in c:\\users\\jeremy\\documents\\intelemi\\ai - native languajes translator\\intelemi_translator_env\\lib\\site-packages (from -r requirements.txt (line 31)) (0.22.0)\n",
      "Requirement already satisfied: httpx==0.27.2 in c:\\users\\jeremy\\documents\\intelemi\\ai - native languajes translator\\intelemi_translator_env\\lib\\site-packages (from -r requirements.txt (line 32)) (0.27.2)\n",
      "Requirement already satisfied: huggingface-hub==0.26.1 in c:\\users\\jeremy\\documents\\intelemi\\ai - native languajes translator\\intelemi_translator_env\\lib\\site-packages (from -r requirements.txt (line 33)) (0.26.1)\n",
      "Requirement already satisfied: idna==3.10 in c:\\users\\jeremy\\documents\\intelemi\\ai - native languajes translator\\intelemi_translator_env\\lib\\site-packages (from -r requirements.txt (line 34)) (3.10)\n",
      "Requirement already satisfied: itsdangerous==2.2.0 in c:\\users\\jeremy\\documents\\intelemi\\ai - native languajes translator\\intelemi_translator_env\\lib\\site-packages (from -r requirements.txt (line 35)) (2.2.0)\n",
      "Requirement already satisfied: Jinja2==3.1.4 in c:\\users\\jeremy\\documents\\intelemi\\ai - native languajes translator\\intelemi_translator_env\\lib\\site-packages (from -r requirements.txt (line 36)) (3.1.4)\n",
      "Requirement already satisfied: markdown-it-py==3.0.0 in c:\\users\\jeremy\\documents\\intelemi\\ai - native languajes translator\\intelemi_translator_env\\lib\\site-packages (from -r requirements.txt (line 37)) (3.0.0)\n",
      "Requirement already satisfied: MarkupSafe==2.1.5 in c:\\users\\jeremy\\documents\\intelemi\\ai - native languajes translator\\intelemi_translator_env\\lib\\site-packages (from -r requirements.txt (line 38)) (2.1.5)\n",
      "Requirement already satisfied: mdurl==0.1.2 in c:\\users\\jeremy\\documents\\intelemi\\ai - native languajes translator\\intelemi_translator_env\\lib\\site-packages (from -r requirements.txt (line 39)) (0.1.2)\n",
      "Requirement already satisfied: numpy==2.1.2 in c:\\users\\jeremy\\documents\\intelemi\\ai - native languajes translator\\intelemi_translator_env\\lib\\site-packages (from -r requirements.txt (line 40)) (2.1.2)\n",
      "Requirement already satisfied: orjson==3.10.9 in c:\\users\\jeremy\\documents\\intelemi\\ai - native languajes translator\\intelemi_translator_env\\lib\\site-packages (from -r requirements.txt (line 41)) (3.10.9)\n",
      "Requirement already satisfied: packaging==24.1 in c:\\users\\jeremy\\documents\\intelemi\\ai - native languajes translator\\intelemi_translator_env\\lib\\site-packages (from -r requirements.txt (line 42)) (24.1)\n",
      "Requirement already satisfied: pandas==2.2.3 in c:\\users\\jeremy\\documents\\intelemi\\ai - native languajes translator\\intelemi_translator_env\\lib\\site-packages (from -r requirements.txt (line 43)) (2.2.3)\n",
      "Requirement already satisfied: pillow==10.4.0 in c:\\users\\jeremy\\documents\\intelemi\\ai - native languajes translator\\intelemi_translator_env\\lib\\site-packages (from -r requirements.txt (line 44)) (10.4.0)\n",
      "Requirement already satisfied: proto-plus==1.24.0 in c:\\users\\jeremy\\documents\\intelemi\\ai - native languajes translator\\intelemi_translator_env\\lib\\site-packages (from -r requirements.txt (line 45)) (1.24.0)\n",
      "Requirement already satisfied: protobuf==5.28.2 in c:\\users\\jeremy\\documents\\intelemi\\ai - native languajes translator\\intelemi_translator_env\\lib\\site-packages (from -r requirements.txt (line 46)) (5.28.2)\n",
      "Requirement already satisfied: pyasn1==0.6.1 in c:\\users\\jeremy\\documents\\intelemi\\ai - native languajes translator\\intelemi_translator_env\\lib\\site-packages (from -r requirements.txt (line 47)) (0.6.1)\n",
      "Requirement already satisfied: pyasn1_modules==0.4.1 in c:\\users\\jeremy\\documents\\intelemi\\ai - native languajes translator\\intelemi_translator_env\\lib\\site-packages (from -r requirements.txt (line 48)) (0.4.1)\n",
      "Requirement already satisfied: pydantic==2.9.2 in c:\\users\\jeremy\\documents\\intelemi\\ai - native languajes translator\\intelemi_translator_env\\lib\\site-packages (from -r requirements.txt (line 49)) (2.9.2)\n",
      "Requirement already satisfied: pydantic_core==2.23.4 in c:\\users\\jeremy\\documents\\intelemi\\ai - native languajes translator\\intelemi_translator_env\\lib\\site-packages (from -r requirements.txt (line 50)) (2.23.4)\n",
      "Requirement already satisfied: pydub==0.25.1 in c:\\users\\jeremy\\documents\\intelemi\\ai - native languajes translator\\intelemi_translator_env\\lib\\site-packages (from -r requirements.txt (line 51)) (0.25.1)\n",
      "Requirement already satisfied: Pygments==2.18.0 in c:\\users\\jeremy\\documents\\intelemi\\ai - native languajes translator\\intelemi_translator_env\\lib\\site-packages (from -r requirements.txt (line 52)) (2.18.0)\n",
      "Requirement already satisfied: pymongo==4.10.1 in c:\\users\\jeremy\\documents\\intelemi\\ai - native languajes translator\\intelemi_translator_env\\lib\\site-packages (from -r requirements.txt (line 53)) (4.10.1)\n",
      "Requirement already satisfied: pyparsing==3.2.0 in c:\\users\\jeremy\\documents\\intelemi\\ai - native languajes translator\\intelemi_translator_env\\lib\\site-packages (from -r requirements.txt (line 54)) (3.2.0)\n",
      "Requirement already satisfied: python-dateutil==2.9.0.post0 in c:\\users\\jeremy\\documents\\intelemi\\ai - native languajes translator\\intelemi_translator_env\\lib\\site-packages (from -r requirements.txt (line 55)) (2.9.0.post0)\n",
      "Requirement already satisfied: python-dotenv==1.0.1 in c:\\users\\jeremy\\documents\\intelemi\\ai - native languajes translator\\intelemi_translator_env\\lib\\site-packages (from -r requirements.txt (line 56)) (1.0.1)\n",
      "Requirement already satisfied: python-multipart==0.0.12 in c:\\users\\jeremy\\documents\\intelemi\\ai - native languajes translator\\intelemi_translator_env\\lib\\site-packages (from -r requirements.txt (line 57)) (0.0.12)\n",
      "Requirement already satisfied: pytz==2024.2 in c:\\users\\jeremy\\documents\\intelemi\\ai - native languajes translator\\intelemi_translator_env\\lib\\site-packages (from -r requirements.txt (line 58)) (2024.2)\n",
      "Requirement already satisfied: PyYAML==6.0.2 in c:\\users\\jeremy\\documents\\intelemi\\ai - native languajes translator\\intelemi_translator_env\\lib\\site-packages (from -r requirements.txt (line 59)) (6.0.2)\n",
      "Requirement already satisfied: requests==2.32.3 in c:\\users\\jeremy\\documents\\intelemi\\ai - native languajes translator\\intelemi_translator_env\\lib\\site-packages (from -r requirements.txt (line 60)) (2.32.3)\n",
      "Requirement already satisfied: rich==13.9.2 in c:\\users\\jeremy\\documents\\intelemi\\ai - native languajes translator\\intelemi_translator_env\\lib\\site-packages (from -r requirements.txt (line 61)) (13.9.2)\n",
      "Requirement already satisfied: rsa==4.9 in c:\\users\\jeremy\\documents\\intelemi\\ai - native languajes translator\\intelemi_translator_env\\lib\\site-packages (from -r requirements.txt (line 62)) (4.9)\n",
      "Requirement already satisfied: ruff==0.7.0 in c:\\users\\jeremy\\documents\\intelemi\\ai - native languajes translator\\intelemi_translator_env\\lib\\site-packages (from -r requirements.txt (line 63)) (0.7.0)\n",
      "Requirement already satisfied: semantic-version==2.10.0 in c:\\users\\jeremy\\documents\\intelemi\\ai - native languajes translator\\intelemi_translator_env\\lib\\site-packages (from -r requirements.txt (line 64)) (2.10.0)\n",
      "Requirement already satisfied: shellingham==1.5.4 in c:\\users\\jeremy\\documents\\intelemi\\ai - native languajes translator\\intelemi_translator_env\\lib\\site-packages (from -r requirements.txt (line 65)) (1.5.4)\n",
      "Requirement already satisfied: six==1.16.0 in c:\\users\\jeremy\\documents\\intelemi\\ai - native languajes translator\\intelemi_translator_env\\lib\\site-packages (from -r requirements.txt (line 66)) (1.16.0)\n",
      "Requirement already satisfied: sniffio==1.3.1 in c:\\users\\jeremy\\documents\\intelemi\\ai - native languajes translator\\intelemi_translator_env\\lib\\site-packages (from -r requirements.txt (line 67)) (1.3.1)\n",
      "Requirement already satisfied: starlette==0.40.0 in c:\\users\\jeremy\\documents\\intelemi\\ai - native languajes translator\\intelemi_translator_env\\lib\\site-packages (from -r requirements.txt (line 68)) (0.40.0)\n",
      "Requirement already satisfied: tomlkit==0.12.0 in c:\\users\\jeremy\\documents\\intelemi\\ai - native languajes translator\\intelemi_translator_env\\lib\\site-packages (from -r requirements.txt (line 69)) (0.12.0)\n",
      "Requirement already satisfied: tqdm==4.66.5 in c:\\users\\jeremy\\documents\\intelemi\\ai - native languajes translator\\intelemi_translator_env\\lib\\site-packages (from -r requirements.txt (line 70)) (4.66.5)\n",
      "Requirement already satisfied: typer==0.12.5 in c:\\users\\jeremy\\documents\\intelemi\\ai - native languajes translator\\intelemi_translator_env\\lib\\site-packages (from -r requirements.txt (line 71)) (0.12.5)\n",
      "Requirement already satisfied: typing_extensions==4.12.2 in c:\\users\\jeremy\\documents\\intelemi\\ai - native languajes translator\\intelemi_translator_env\\lib\\site-packages (from -r requirements.txt (line 72)) (4.12.2)\n",
      "Requirement already satisfied: tzdata==2024.2 in c:\\users\\jeremy\\documents\\intelemi\\ai - native languajes translator\\intelemi_translator_env\\lib\\site-packages (from -r requirements.txt (line 73)) (2024.2)\n",
      "Requirement already satisfied: uritemplate==4.1.1 in c:\\users\\jeremy\\documents\\intelemi\\ai - native languajes translator\\intelemi_translator_env\\lib\\site-packages (from -r requirements.txt (line 74)) (4.1.1)\n",
      "Requirement already satisfied: urllib3==2.2.3 in c:\\users\\jeremy\\documents\\intelemi\\ai - native languajes translator\\intelemi_translator_env\\lib\\site-packages (from -r requirements.txt (line 75)) (2.2.3)\n",
      "Requirement already satisfied: uvicorn==0.32.0 in c:\\users\\jeremy\\documents\\intelemi\\ai - native languajes translator\\intelemi_translator_env\\lib\\site-packages (from -r requirements.txt (line 76)) (0.32.0)\n",
      "Requirement already satisfied: websockets==12.0 in c:\\users\\jeremy\\documents\\intelemi\\ai - native languajes translator\\intelemi_translator_env\\lib\\site-packages (from -r requirements.txt (line 77)) (12.0)\n",
      "Requirement already satisfied: Werkzeug==3.0.4 in c:\\users\\jeremy\\documents\\intelemi\\ai - native languajes translator\\intelemi_translator_env\\lib\\site-packages (from -r requirements.txt (line 78)) (3.0.4)\n",
      "Note: you may need to restart the kernel to use updated packages.\n"
     ]
    }
   ],
   "source": [
    "%pip install -r requirements.txt\n"
   ]
  },
  {
   "cell_type": "code",
   "execution_count": 21,
   "metadata": {},
   "outputs": [
    {
     "data": {
      "text/plain": [
       "True"
      ]
     },
     "execution_count": 21,
     "metadata": {},
     "output_type": "execute_result"
    }
   ],
   "source": [
    "import os\n",
    "import sys\n",
    "sys.path.append('./')  # Ruta al directorio base del proyecto\n",
    "from gemini_model.data.prompts import prompts\n",
    "from gemini_model.history.history_mongo import ChatHistoryMongo\n",
    "from gemini_model.media.media_handler import MediaHandler\n",
    "from gemini_model.cache.cache import PromptCacheManager\n",
    "from gemini_model.query import QueryClassifier\n",
    "from gemini_model.model import GeminiInteract\n",
    "from dotenv import load_dotenv\n",
    "\n",
    "load_dotenv()\n"
   ]
  },
  {
   "cell_type": "code",
   "execution_count": 22,
   "metadata": {},
   "outputs": [],
   "source": [
    "user_id = \"notebook_test_user\"\n",
    "chat_room_id = \"notebook_test_room\""
   ]
  },
  {
   "cell_type": "code",
   "execution_count": 23,
   "metadata": {},
   "outputs": [],
   "source": [
    "gemini = GeminiInteract(\n",
    "    prompt_key='tsafiqui_translation',\n",
    "    max_history_messages=10,\n",
    "    user_id=user_id,\n",
    "    chat_room_id=chat_room_id\n",
    ")"
   ]
  },
  {
   "cell_type": "code",
   "execution_count": 24,
   "metadata": {},
   "outputs": [
    {
     "name": "stdout",
     "output_type": "stream",
     "text": [
      "\n",
      "=== Ejemplo 3: Mensaje simple ===\n",
      "Using existing cache: tsafiqui_translation_system_cache\n",
      "Token count: 116368\n",
      "| Initializing model with cached system prompt... \n",
      "\n",
      "| Prompt Key: tsafiqui_translation\n",
      "| Chat session initialized successfully \n",
      "\n",
      "Answer:\n",
      " Aprender un idioma requiere práctica y dedicación.  No puedo *enseñarte* tsafiqui en este formato de texto, ya que la interacción y la retroalimentación son esenciales para el aprendizaje de un idioma. Sin embargo, puedo ofrecerte una visión general de sus bases para que puedas empezar a investigar más a fondo.  Recuerda que la información disponible sobre el tsafiqui es limitada.\n",
      "\n",
      "**1.  Estructura de la Oración:**\n",
      "\n",
      "El tsafiqui, como muchos idiomas amerindios, tiene un orden de palabras flexible, pero el orden más común para oraciones declarativas es **Sujeto-Objeto-Verbo (SOV)**.\n",
      "\n",
      "* **Ejemplo:**  Si quisiéramos decir \"El hombre come el plátano\", una posible estructura sería:  `Tsachi anó fino-e`.  (Hombre plátano comer-declarativo)\n",
      "\n",
      "**2.  Elementos Clave:**\n",
      "\n",
      "* **Sustantivos:**  No hay género gramatical (masculino/femenino) en los sustantivos. El plural a menudo se indica con sufijos (ej. `-la`, `-lala`), pero la gramática no lo especifica completamente.\n",
      "* **Verbos:**  Los verbos son muy complejos.  Se conjugan utilizando auxiliares y una gran cantidad de sufijos que indican tiempo (pasado, presente, futuro), aspecto (perfectivo, imperfectivo, continuativo), modo (indicativo, subjuntivo, imperativo), y persona (primera, segunda, tercera, singular, plural).  La gramática proporcionada anteriormente da una idea de la complejidad de esta conjugación.\n",
      "* **Adjetivos:**  Los adjetivos generalmente preceden al sustantivo que modifican.  Algunos adjetivos pueden llevar un sufijo de identificación (`-n`).\n",
      "* **Numerales:**  Los numerales básicos existen, pero muchos números más altos son préstamos del español o quichua.\n",
      "* **Posposiciones:**  En lugar de preposiciones, el tsafiqui utiliza posposiciones, que se colocan *después* del sustantivo.  Estas posposiciones indican relaciones gramaticales como posesión, lugar, tiempo, etc.  La gramática proporciona ejemplos de posposiciones como `-chi` (dativo/instrumental), `-bi` (locativo), etc.\n",
      "\n",
      "**3.  Sufijos Importantes (una pequeña muestra):**\n",
      "\n",
      "La gramática menciona muchos sufijos, pero aquí hay algunos ejemplos para darte una idea:\n",
      "\n",
      "* `-e`: sufijo declarativo (afirmación)\n",
      "* `-n`: sufijo interrogativo (pregunta)\n",
      "* `-ca`: sufijo de complemento directo (para personas, a menudo)\n",
      "* `-chi`: sufijo dativo/instrumental\n",
      "* `-to`: gerundio (acción en progreso)\n",
      "* `-tu/-ti`: negativo\n",
      "\n",
      "\n",
      "**4.  Auxiliares Verbales (ejemplos):**\n",
      "\n",
      "* `jo-`:  ser, estar\n",
      "* `i-`:  llegar a ser, cambio de estado\n",
      "* `que-/qui-`: hacer\n",
      "* `ra-`: estar en una posición\n",
      "\n",
      "\n",
      "**5.  Para Empezar a Aprender:**\n",
      "\n",
      "1. **Busca un diccionario tsafiqui-español:**  Esto te permitirá empezar a familiarizarte con el vocabulario básico.\n",
      "2. **Estudia la gramática con cuidado:** La gramática que te proporcioné es compleja, pero es el recurso más completo disponible.  Enfócate en las secciones más básicas primero.\n",
      "3. **Busca ejemplos de frases y oraciones:**  Intenta encontrar ejemplos de oraciones en contexto para entender mejor cómo se usan las diferentes estructuras.\n",
      "4. **Considera buscar un tutor o recursos de audio:**  La mejor manera de aprender un idioma es interactuando con hablantes nativos o con materiales de audio que te permitan escuchar la pronunciación.\n",
      "\n",
      "\n",
      "En resumen, el tsafiqui es un idioma con una estructura morfológica rica y compleja.  Esta introducción solo te da una idea muy general.  Para aprenderlo de verdad, necesitas dedicación, recursos adicionales y, idealmente, la ayuda de un hablante nativo.\n",
      "\n"
     ]
    }
   ],
   "source": [
    "# Ejemplo 1: Mensaje de texto simple\n",
    "print(\"\\n=== Ejemplo 3: Mensaje simple ===\")\n",
    "response = gemini.send_single_message(\n",
    "    \"Me puedes ensenar las bases del tsafiqui?\"\n",
    ")\n",
    "print(\"Answer:\\n\", response.text)"
   ]
  },
  {
   "cell_type": "markdown",
   "metadata": {},
   "source": [
    "#Objetos"
   ]
  },
  {
   "cell_type": "code",
   "execution_count": 25,
   "metadata": {},
   "outputs": [],
   "source": [
    "media_paths = [\n",
    "        r\"test_media\\tapir.jpg\",\n",
    "        r\"test_media\\tucan.jpg\"\n",
    "]"
   ]
  },
  {
   "cell_type": "code",
   "execution_count": null,
   "metadata": {},
   "outputs": [
    {
     "name": "stdout",
     "output_type": "stream",
     "text": [
      "\n",
      "=== Ejemplo 1: Primera carga de multimedia ===\n",
      "Using existing cache: tsafiqui_translation_system_cache\n",
      "Token count: 116368\n",
      "| Initializing model with cached system prompt... \n",
      "\n",
      "Uploaded new file 'tapir.jpg' as: https://generativelanguage.googleapis.com/v1beta/files/zewmzsss1wqe\n",
      "Uploaded new file 'tucan.jpg' as: https://generativelanguage.googleapis.com/v1beta/files/ojaqx11dnsm0\n",
      "Respuesta: Claro, puedo analizar las imágenes y proporcionar una transcripción. Sin embargo, dado que las imágenes son fotos de un animal (una paca) y un ave (un tucán), no hay texto que transcribir.  ¿Te gustaría que te diera una descripción de los animales en español o en tsafiqui?  O, ¿quizás tienes otra pregunta relacionada con las imágenes?\n",
      "\n"
     ]
    }
   ],
   "source": [
    "print(\"\\n=== Ejemplo 1: Primera carga de multimedia ===\")\n",
    "response = gemini.send_message_with_media(\n",
    "    message=\"Analiza estos archivos multimedia y haz la transcripcion\",\n",
    "    media_paths=media_paths\n",
    ")\n",
    "print(\"Answer:\\n\", response.text)"
   ]
  }
 ],
 "metadata": {
  "kernelspec": {
   "display_name": "intelemi_translator_env",
   "language": "python",
   "name": "python3"
  },
  "language_info": {
   "codemirror_mode": {
    "name": "ipython",
    "version": 3
   },
   "file_extension": ".py",
   "mimetype": "text/x-python",
   "name": "python",
   "nbconvert_exporter": "python",
   "pygments_lexer": "ipython3",
   "version": "3.12.4"
  }
 },
 "nbformat": 4,
 "nbformat_minor": 2
}
